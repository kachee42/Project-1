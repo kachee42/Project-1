{
 "cells": [
  {
   "cell_type": "code",
   "execution_count": 1,
   "id": "42a40c35",
   "metadata": {},
   "outputs": [
    {
     "ename": "ModuleNotFoundError",
     "evalue": "No module named 'config'",
     "output_type": "error",
     "traceback": [
      "\u001b[1;31m---------------------------------------------------------------------------\u001b[0m",
      "\u001b[1;31mModuleNotFoundError\u001b[0m                       Traceback (most recent call last)",
      "\u001b[1;32m~\\AppData\\Local\\Temp\\ipykernel_25224\\4274350310.py\u001b[0m in \u001b[0;36m<module>\u001b[1;34m\u001b[0m\n\u001b[0;32m      3\u001b[0m \u001b[1;32mimport\u001b[0m \u001b[0mjson\u001b[0m\u001b[1;33m\u001b[0m\u001b[1;33m\u001b[0m\u001b[0m\n\u001b[0;32m      4\u001b[0m \u001b[1;32mfrom\u001b[0m \u001b[0mpprint\u001b[0m \u001b[1;32mimport\u001b[0m \u001b[0mpprint\u001b[0m\u001b[1;33m\u001b[0m\u001b[1;33m\u001b[0m\u001b[0m\n\u001b[1;32m----> 5\u001b[1;33m \u001b[1;32mfrom\u001b[0m \u001b[0mconfig\u001b[0m \u001b[1;32mimport\u001b[0m \u001b[0mapi_key\u001b[0m\u001b[1;33m\u001b[0m\u001b[1;33m\u001b[0m\u001b[0m\n\u001b[0m\u001b[0;32m      6\u001b[0m \u001b[1;32mfrom\u001b[0m \u001b[0mcensus\u001b[0m \u001b[1;32mimport\u001b[0m \u001b[0mCensus\u001b[0m\u001b[1;33m\u001b[0m\u001b[1;33m\u001b[0m\u001b[0m\n\u001b[0;32m      7\u001b[0m \u001b[1;32mfrom\u001b[0m \u001b[0mus\u001b[0m \u001b[1;32mimport\u001b[0m \u001b[0mstates\u001b[0m\u001b[1;33m\u001b[0m\u001b[1;33m\u001b[0m\u001b[0m\n",
      "\u001b[1;31mModuleNotFoundError\u001b[0m: No module named 'config'"
     ]
    }
   ],
   "source": [
    "import pandas as pd\n",
    "import requests\n",
    "import json\n",
    "from pprint import pprint\n",
    "from config import api_key\n",
    "from census import Census\n",
    "from us import states"
   ]
  },
  {
   "cell_type": "code",
   "execution_count": null,
   "id": "6a43d713",
   "metadata": {},
   "outputs": [],
   "source": [
    "# Setting up lists for looping and data retrieval\n",
    "start_date = [\n",
    "    \"2020-12-31T00:00:00Z\",\n",
    "    \"2021-01-31T00:00:00Z\",\n",
    "    \"2021-02-28T00:00:00Z\",\n",
    "    \"2021-03-31T00:00:00Z\",\n",
    "    \"2021-04-30T00:00:00Z\",\n",
    "    \"2021-05-31T00:00:00Z\",\n",
    "    \"2021-06-30T00:00:00Z\",\n",
    "    \"2021-07-31T00:00:00Z\",\n",
    "    \"2021-08-31T00:00:00Z\",\n",
    "    \"2021-09-30T00:00:00Z\",\n",
    "    \"2021-10-31T00:00:00Z\",\n",
    "    \"2021-11-30T00:00:00Z\"\n",
    "]\n",
    "\n",
    "end_date = [\n",
    "    \"2021-02-01T00:00:00Z\",\n",
    "    \"2021-03-01T00:00:00Z\",\n",
    "    \"2021-04-01T00:00:00Z\",\n",
    "    \"2021-05-01T00:00:00Z\",\n",
    "    \"2021-06-01T00:00:00Z\",\n",
    "    \"2021-07-01T00:00:00Z\",\n",
    "    \"2021-08-01T00:00:00Z\",\n",
    "    \"2021-09-01T00:00:00Z\",\n",
    "    \"2021-10-01T00:00:00Z\",\n",
    "    \"2021-11-01T00:00:00Z\",\n",
    "    \"2021-12-01T00:00:00Z\",\n",
    "    \"2022-01-01T00:00:00Z\"\n",
    "]\n",
    "\n",
    "month = [\n",
    "    \"Jan\",\n",
    "    \"Feb\",\n",
    "    \"Mar\",\n",
    "    \"Apr\",\n",
    "    \"May\",\n",
    "    \"Jun\",\n",
    "    \"Jul\",\n",
    "    \"Aug\",\n",
    "    \"Sep\",\n",
    "    \"Oct\",\n",
    "    \"Nov\",\n",
    "    \"Dec\"\n",
    "]"
   ]
  },
  {
   "cell_type": "markdown",
   "id": "e72a9202",
   "metadata": {},
   "source": [
    "## Retrieve data from COVID19 API\n",
    "\n",
    "Worth noting for any grader that may choose to execute the code again, it could take a while to execute the following calls to the COVID19 API. It has a tendency to time out and sometimes multiple attempts are needed. The code DOES work, it's not a problem with the code."
   ]
  },
  {
   "cell_type": "code",
   "execution_count": null,
   "id": "c8980317",
   "metadata": {},
   "outputs": [],
   "source": [
    "deaths_url = f\"https://api.covid19api.com/country/united-states/status/deaths?from={start_date[0]}&to={end_date[11]}&province=California\"\n",
    "death_data = requests.get(deaths_url).json()\n",
    "death_data"
   ]
  },
  {
   "cell_type": "code",
   "execution_count": null,
   "id": "fa004966",
   "metadata": {},
   "outputs": [],
   "source": [
    "cases_url = f\"https://api.covid19api.com/country/united-states/status/confirmed?from={start_date[0]}&to={end_date[11]}&province=California\"\n",
    "case_data = requests.get(cases_url).json()\n",
    "case_data"
   ]
  },
  {
   "cell_type": "markdown",
   "id": "d0145cd7",
   "metadata": {},
   "source": [
    "## Compile retrieved data, find cumulative deaths and cases at end of each month, calculate new cases each month and compile into a dataframe"
   ]
  },
  {
   "cell_type": "code",
   "execution_count": null,
   "id": "e2581bbd",
   "metadata": {},
   "outputs": [],
   "source": [
    "# Convert Datasets to DataFrames\n",
    "death_df = pd.DataFrame(death_data)\n",
    "case_df = pd.DataFrame(case_data)"
   ]
  },
  {
   "cell_type": "code",
   "execution_count": null,
   "id": "f404a24f",
   "metadata": {},
   "outputs": [],
   "source": [
    "# Creating list of unique county names\n",
    "county_finder_df = death_df\n",
    "clean_county_finder_df = county_finder_df[county_finder_df[\"City\"] != \"Unassigned\"]\n",
    "clean_county_finder_df = clean_county_finder_df[clean_county_finder_df[\"CityCode\"] != \"80006\"]\n",
    "county_list = clean_county_finder_df[\"City\"].unique()\n",
    "county_list.sort()\n",
    "county_list"
   ]
  },
  {
   "cell_type": "code",
   "execution_count": null,
   "id": "26c8104b",
   "metadata": {},
   "outputs": [],
   "source": [
    "# Create empty dataframe to hold all data\n",
    "all_months_df = pd.DataFrame(columns=[\"County\",\n",
    "                                      \"Cumulative Deaths by End of Month\",\n",
    "                                      \"New Deaths During Month\",\n",
    "                                      \"Cumulative Confirmed Cases by End of Month\",\n",
    "                                      \"New Confirmed Cases During Month\",\n",
    "                                      \"Month\",\n",
    "                                      \"Year\",\n",
    "                                      \"Latitude\",\n",
    "                                      \"Longitude\"]\n",
    "                            )\n",
    "all_months_df"
   ]
  },
  {
   "cell_type": "code",
   "execution_count": null,
   "id": "437fc6d6",
   "metadata": {},
   "outputs": [],
   "source": [
    "# Create index to tick up through all loops\n",
    "index2 = 0\n",
    "\n",
    "# Loop through all datasets\n",
    "for index, date in enumerate(start_date):\n",
    "    \n",
    "    # Loop through dataframes\n",
    "    for county in county_list:\n",
    "        \n",
    "        # Find cumulative deaths prior to target month, cumulative deaths at the end of the month and total deaths for the month\n",
    "        county_prev_month_cum_deaths = int(death_df.loc[((death_df[\"City\"] == county) & (death_df[\"Date\"] == date)), \"Cases\"])\n",
    "        county_month_cum_deaths = int(death_df.loc[((death_df[\"City\"] == county) & (death_df[\"Date\"] == end_date[index])), \"Cases\"])\n",
    "        county_new_deaths = county_month_cum_deaths - county_prev_month_cum_deaths\n",
    "        \n",
    "        # Find cumulative cases prior to target month, cumulative cases at the end of the month and total cases for the month\n",
    "        county_prev_month_cum_cases = int(case_df.loc[((case_df[\"City\"] == county) & (case_df[\"Date\"] == date)), \"Cases\"])\n",
    "        county_month_cum_cases = int(case_df.loc[((case_df[\"City\"] == county) & (case_df[\"Date\"] == end_date[index])), \"Cases\"])\n",
    "        county_new_cases = county_month_cum_cases - county_prev_month_cum_cases\n",
    "        \n",
    "        county_lat_list = death_df.loc[death_df[\"City\"] == county, \"Lat\"].reset_index(drop=True)\n",
    "        county_lat = county_lat_list[1]\n",
    "        \n",
    "        county_lon_list = death_df.loc[death_df[\"City\"] == county, \"Lon\"].reset_index(drop=True)\n",
    "        county_lon = county_lon_list[1]\n",
    "                \n",
    "        # Add values to month_df\n",
    "        all_months_df.loc[index2, \"County\"] = county\n",
    "        all_months_df.loc[index2, \"Cumulative Deaths by End of Month\"] = county_month_cum_deaths\n",
    "        all_months_df.loc[index2, \"New Deaths During Month\"] = county_new_deaths\n",
    "        all_months_df.loc[index2, \"Cumulative Confirmed Cases by End of Month\"] = county_month_cum_cases\n",
    "        all_months_df.loc[index2, \"New Confirmed Cases During Month\"] = county_new_cases\n",
    "        all_months_df.loc[index2, \"Month\"] = month[index]\n",
    "        all_months_df.loc[index2, \"Year\"] = \"2021\"\n",
    "        all_months_df.loc[index2, \"Latitude\"] = county_lat\n",
    "        all_months_df.loc[index2, \"Longitude\"] = county_lon\n",
    "        \n",
    "        # Tick up index3\n",
    "        index2 += 1\n",
    "        \n",
    "all_months_df"
   ]
  },
  {
   "cell_type": "markdown",
   "id": "204cea89",
   "metadata": {},
   "source": [
    "## Retrieve Census Data"
   ]
  },
  {
   "cell_type": "code",
   "execution_count": null,
   "id": "467ccdb0",
   "metadata": {},
   "outputs": [],
   "source": [
    "c = Census(api_key)\n",
    "census_data = c.acs5.get(\n",
    "    (\n",
    "        \"NAME\",                   #\n",
    "        \"B19013_001E\",            # Median Income\n",
    "        \"B19301_001E\",            # Income per capita\n",
    "        \"B17001_002E\",            # poverty: Number of persons whose income in the past 12 months is below the poverty level\n",
    "        \"B01002_001E\",            # Median Age\n",
    "        \"B01003_001E\",            # Total Population\n",
    "        \"B02001_002E\",            # White Population\n",
    "        \"B02001_003E\",            # Black Population\n",
    "        \"B02001_004E\",            # American Indian population\n",
    "        \"B02001_005E\",            # Asian population\n",
    "        \"B02001_008E\",            # Population identifying as 2+ races\n",
    "        \"B03001_003E\",            # Hispanic population\n",
    "        \"B08301_010E\"             # Percent of population using public transport\n",
    "    ), geo={\"for\": \"county:*\",\n",
    "            \"in\": \"state:{}\".format(states.CA.fips)}\n",
    ")\n",
    "\n",
    "census_pd = pd.DataFrame(census_data)\n",
    "census_pd"
   ]
  },
  {
   "cell_type": "code",
   "execution_count": null,
   "id": "c8911874",
   "metadata": {},
   "outputs": [],
   "source": [
    "census_pd = census_pd.rename(\n",
    "    columns = {\n",
    "        \"NAME\": \"County\",\n",
    "        \"B19013_001E\": \"Median Income\",\n",
    "        \"B19301_001E\": \"Income per Capita\",\n",
    "        \"B17001_002E\": \"Number of Poeple in Poverty\",\n",
    "        \"B01002_001E\": \"Median Age\",\n",
    "        \"B01003_001E\": \"Total Population\",\n",
    "        \"B02001_002E\": \"Total White Population\",\n",
    "        \"B02001_003E\": \"Total Black Population\",\n",
    "        \"B02001_004E\": \"Total American Indian Population\",\n",
    "        \"B02001_005E\": \"Total Asian Poulation\",\n",
    "        \"B02001_008E\": \"Total Population Identifying as 2+ Races\",\n",
    "        \"B03001_003E\": \"Total Hispanic Population\",\n",
    "        \"B08301_010E\": \"Total Pop Using Public Transit\"\n",
    "    }\n",
    ")\n",
    "census_pd"
   ]
  },
  {
   "cell_type": "code",
   "execution_count": null,
   "id": "7610c9ce",
   "metadata": {},
   "outputs": [],
   "source": [
    "sorted_census_pd = census_pd.sort_values(\"County\").reset_index(drop=True)\n",
    "sorted_census_pd"
   ]
  },
  {
   "cell_type": "code",
   "execution_count": null,
   "id": "06cadeaa",
   "metadata": {},
   "outputs": [],
   "source": [
    "sorted_census_pd[\"County\"] = county_list\n",
    "sorted_census_pd.head()"
   ]
  },
  {
   "cell_type": "code",
   "execution_count": null,
   "id": "9fc0eb66",
   "metadata": {},
   "outputs": [],
   "source": [
    "del sorted_census_pd[\"state\"]\n",
    "del sorted_census_pd[\"county\"]\n",
    "sorted_census_pd.head()"
   ]
  },
  {
   "cell_type": "code",
   "execution_count": null,
   "id": "2684d86a",
   "metadata": {},
   "outputs": [],
   "source": [
    "combined_data = pd.merge(all_months_df, sorted_census_pd, on=\"County\", how=\"left\")\n",
    "combined_data"
   ]
  },
  {
   "cell_type": "code",
   "execution_count": null,
   "id": "dca2a4de",
   "metadata": {},
   "outputs": [],
   "source": [
    "combined_data.to_csv(\"Resources/combined_covid_census_data.csv\", index=False)"
   ]
  },
  {
   "cell_type": "code",
   "execution_count": null,
   "id": "e3c73aea",
   "metadata": {},
   "outputs": [],
   "source": [
    "#\n",
    "\n",
    "ca_counties = len(combined_data.to_csv[\"County\"].unique())\n",
    "ca_counties"
   ]
  },
  {
   "cell_type": "code",
   "execution_count": null,
   "id": "f7dd2c8a",
   "metadata": {},
   "outputs": [],
   "source": []
  }
 ],
 "metadata": {
  "kernelspec": {
   "display_name": "Python 3 (ipykernel)",
   "language": "python",
   "name": "python3"
  },
  "language_info": {
   "codemirror_mode": {
    "name": "ipython",
    "version": 3
   },
   "file_extension": ".py",
   "mimetype": "text/x-python",
   "name": "python",
   "nbconvert_exporter": "python",
   "pygments_lexer": "ipython3",
   "version": "3.9.13"
  }
 },
 "nbformat": 4,
 "nbformat_minor": 5
}
