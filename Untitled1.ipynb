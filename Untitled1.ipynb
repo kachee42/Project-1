{
 "cells": [
  {
   "cell_type": "code",
   "execution_count": null,
   "id": "1ae6e281",
   "metadata": {},
   "outputs": [],
   "source": [
    "# Bonus - plot the latitude and longitude of the California housing data using Matplotlib, color the data points using the median income of the block.\n",
    "plt.scatter(california_data['Longitude'],california_data['Latitude'],c=california_data['MedInc'])\n",
    "clb = plt.colorbar()\n",
    "plt.xlabel(\"Longitude\")\n",
    "plt.ylabel(\"Latitude\")\n",
    "clb.set_label(\"Median Income\")\n",
    "plt.show()"
   ]
  },
  {
   "cell_type": "code",
   "execution_count": null,
   "id": "a4ffb119",
   "metadata": {},
   "outputs": [],
   "source": [
    "plt.scatter(wdi_data.iloc[:,3],wdi_data.iloc[:,10])\n",
    "plt.xlabel('Population Median Age')\n",
    "plt.ylabel('Cell Phones Per 100 People')\n",
    "plt.show()"
   ]
  },
  {
   "cell_type": "code",
   "execution_count": null,
   "id": "352fdecb",
   "metadata": {},
   "outputs": [],
   "source": [
    "# Plot colour_intensity versus alcohol on a scatterplot\n",
    "color_intensity = wine_data['color_intensity']\n",
    "alcohol = wine_data['alcohol']\n",
    "plt.scatter(alcohol,color_intensity)\n",
    "plt.xlabel(\"Amount of Alcohol\")\n",
    "plt.ylabel(\"Intensity of Color\")\n",
    "plt.show()"
   ]
  },
  {
   "cell_type": "code",
   "execution_count": null,
   "id": "e3e764e5",
   "metadata": {},
   "outputs": [],
   "source": [
    "# scatter plot Plot out rooms versus median house price\n",
    "x_values = san_diego_housing['AveRooms']\n",
    "y_values = san_diego_housing['MEDV']\n",
    "plt.scatter(x_values,y_values)\n",
    "plt.xlabel('Rooms in House')\n",
    "plt.ylabel('Median House Prices ($100,000)')\n",
    "plt.show()"
   ]
  },
  {
   "cell_type": "code",
   "execution_count": null,
   "id": "ece87c48",
   "metadata": {},
   "outputs": [],
   "source": [
    "# Add the linear regression equation and line to plot\n",
    "x_values = san_diego_housing['AveRooms']\n",
    "y_values = san_diego_housing['MEDV']\n",
    "(slope, intercept, rvalue, pvalue, stderr) = linregress(x_values, y_values)\n",
    "regress_values = x_values * slope + intercept\n",
    "line_eq = \"y = \" + str(round(slope,2)) + \"x + \" + str(round(intercept,2))\n",
    "plt.scatter(x_values,y_values)\n",
    "plt.plot(x_values,regress_values,\"r-\")\n",
    "plt.annotate(line_eq,(5.8,0.8),fontsize=15,color=\"red\")\n",
    "plt.xlabel('Rooms in House')\n",
    "plt.ylabel('Median House Prices ($100,000)')\n",
    "plt.show()"
   ]
  },
  {
   "cell_type": "code",
   "execution_count": null,
   "id": "5747e4a2",
   "metadata": {},
   "outputs": [],
   "source": []
  }
 ],
 "metadata": {
  "kernelspec": {
   "display_name": "Python 3 (ipykernel)",
   "language": "python",
   "name": "python3"
  },
  "language_info": {
   "codemirror_mode": {
    "name": "ipython",
    "version": 3
   },
   "file_extension": ".py",
   "mimetype": "text/x-python",
   "name": "python",
   "nbconvert_exporter": "python",
   "pygments_lexer": "ipython3",
   "version": "3.7.7"
  }
 },
 "nbformat": 4,
 "nbformat_minor": 5
}
