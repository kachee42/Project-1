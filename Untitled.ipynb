{
 "cells": [
  {
   "cell_type": "code",
   "execution_count": 3,
   "id": "300e5b64",
   "metadata": {},
   "outputs": [],
   "source": [
    "import pandas as pd\n",
    "import requests\n",
    "import json\n",
    "from pprint import pprint\n",
    "#from config import api_key\n",
    "# from config import apiKey\n",
    "from census import Census\n",
    "from us import states\n",
    "import time\n",
    "\n",
    "requests.adapters.DEFAULT_RETRIES = 3"
   ]
  },
  {
   "cell_type": "code",
   "execution_count": 4,
   "id": "f142db5e",
   "metadata": {},
   "outputs": [],
   "source": [
    "import pprint \n",
    "\n",
    "death_data = []\n",
    "county_list = []\n",
    "case_data = []"
   ]
  },
  {
   "cell_type": "code",
   "execution_count": null,
   "id": "ed5e9e03",
   "metadata": {},
   "outputs": [],
   "source": []
  }
 ],
 "metadata": {
  "kernelspec": {
   "display_name": "PythonData",
   "language": "python",
   "name": "pythondata"
  },
  "language_info": {
   "codemirror_mode": {
    "name": "ipython",
    "version": 3
   },
   "file_extension": ".py",
   "mimetype": "text/x-python",
   "name": "python",
   "nbconvert_exporter": "python",
   "pygments_lexer": "ipython3",
   "version": "3.7.7"
  }
 },
 "nbformat": 4,
 "nbformat_minor": 5
}
